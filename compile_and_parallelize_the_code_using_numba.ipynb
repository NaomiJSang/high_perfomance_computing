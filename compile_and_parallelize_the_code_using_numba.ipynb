{
  "nbformat": 4,
  "nbformat_minor": 0,
  "metadata": {
    "colab": {
      "provenance": [],
      "include_colab_link": true
    },
    "kernelspec": {
      "name": "python3",
      "display_name": "Python 3"
    },
    "language_info": {
      "name": "python"
    }
  },
  "cells": [
    {
      "cell_type": "markdown",
      "metadata": {
        "id": "view-in-github",
        "colab_type": "text"
      },
      "source": [
        "<a href=\"https://colab.research.google.com/github/NaomiJSang/high_perfomance_computing/blob/main/compile_and_parallelize_the_code_using_numba.ipynb\" target=\"_parent\"><img src=\"https://colab.research.google.com/assets/colab-badge.svg\" alt=\"Open In Colab\"/></a>"
      ]
    },
    {
      "cell_type": "code",
      "source": [
        "print(\"Student Name: Naomi Sang\")"
      ],
      "metadata": {
        "colab": {
          "base_uri": "https://localhost:8080/"
        },
        "id": "wXlICPR8z876",
        "outputId": "0d9a3f02-6414-47f7-d4e4-00461ce93105"
      },
      "execution_count": null,
      "outputs": [
        {
          "output_type": "stream",
          "name": "stdout",
          "text": [
            "Student Name: Naomi Sang\n"
          ]
        }
      ]
    },
    {
      "cell_type": "markdown",
      "source": [
        "The purpose of this project is to give you the chance to observe how using numba\n",
        "will accelerate the execution of a regular python program.\n",
        "\n",
        "The acceleration is the result of two different factors:\n",
        "1. The use of compiled code\n",
        "2. The use of the prange directive to accelerate the execution of a loop by dividing the iterations of a for statement across several threads of execution.\n",
        "\n",
        "We start by creating several different test files.\n"
      ],
      "metadata": {
        "id": "X9Z2xM_fOCJA"
      }
    },
    {
      "cell_type": "markdown",
      "source": [
        "## Test files"
      ],
      "metadata": {
        "id": "T5HZUzR_h36T"
      }
    },
    {
      "cell_type": "markdown",
      "source": [
        "A complete graph (all nodes are connected to all other nodes) with four nodes.\n",
        "The maximum independent set has size 1. It can be any node."
      ],
      "metadata": {
        "id": "LZK_5rPnhkOY"
      }
    },
    {
      "cell_type": "code",
      "execution_count": null,
      "metadata": {
        "colab": {
          "base_uri": "https://localhost:8080/"
        },
        "id": "d98wHHd2NM6H",
        "outputId": "2c575065-012a-4a27-92c4-065cb19828e2"
      },
      "outputs": [
        {
          "output_type": "stream",
          "name": "stdout",
          "text": [
            "Writing k4.txt\n"
          ]
        }
      ],
      "source": [
        "%%writefile k4.txt\n",
        "4\n",
        "0 1 1 1\n",
        "1 0 1 1\n",
        "1 1 0 1\n",
        "1 1 1 0"
      ]
    },
    {
      "cell_type": "markdown",
      "source": [
        "A graph with no edges and four nodes. The maximum independent set has four nodes $\\{0,1,2,3\\}$"
      ],
      "metadata": {
        "id": "FhFyRIFKhs1T"
      }
    },
    {
      "cell_type": "code",
      "source": [
        "%%writefile no_edges_4.txt\n",
        "4\n",
        "0 0 0 0\n",
        "0 0 0 0\n",
        "0 0 0 0\n",
        "0 0 0 0"
      ],
      "metadata": {
        "colab": {
          "base_uri": "https://localhost:8080/"
        },
        "id": "iXh4qu_eOJDG",
        "outputId": "c3dc7cd4-3429-4580-9035-fa6b6ef66ca6"
      },
      "execution_count": null,
      "outputs": [
        {
          "output_type": "stream",
          "name": "stdout",
          "text": [
            "Writing no_edges_4.txt\n"
          ]
        }
      ]
    },
    {
      "cell_type": "markdown",
      "source": [
        "A complete graph with sixteen nodes. Again, the maximum independent set has size 1 and it can be any node."
      ],
      "metadata": {
        "id": "CeBfrwkAh6j7"
      }
    },
    {
      "cell_type": "code",
      "source": [
        "%%writefile k16.txt\n",
        "16\n",
        "0 1 1 1 1 1 1 1 1 1 1 1 1 1 1 1\n",
        "1 0 1 1 1 1 1 1 1 1 1 1 1 1 1 1\n",
        "1 1 0 1 1 1 1 1 1 1 1 1 1 1 1 1\n",
        "1 1 1 0 1 1 1 1 1 1 1 1 1 1 1 1\n",
        "1 1 1 1 0 1 1 1 1 1 1 1 1 1 1 1\n",
        "1 1 1 1 1 0 1 1 1 1 1 1 1 1 1 1\n",
        "1 1 1 1 1 1 0 1 1 1 1 1 1 1 1 1\n",
        "1 1 1 1 1 1 1 0 1 1 1 1 1 1 1 1\n",
        "1 1 1 1 1 1 1 1 0 1 1 1 1 1 1 1\n",
        "1 1 1 1 1 1 1 1 1 0 1 1 1 1 1 1\n",
        "1 1 1 1 1 1 1 1 1 1 0 1 1 1 1 1\n",
        "1 1 1 1 1 1 1 1 1 1 1 0 1 1 1 1\n",
        "1 1 1 1 1 1 1 1 1 1 1 1 0 1 1 1\n",
        "1 1 1 1 1 1 1 1 1 1 1 1 1 0 1 1\n",
        "1 1 1 1 1 1 1 1 1 1 1 1 1 1 0 1\n",
        "1 1 1 1 1 1 1 1 1 1 1 1 1 1 1 0"
      ],
      "metadata": {
        "colab": {
          "base_uri": "https://localhost:8080/"
        },
        "id": "6AlAvScQON-F",
        "outputId": "76a5606a-cf38-4b10-ff52-cf766a67e254"
      },
      "execution_count": null,
      "outputs": [
        {
          "output_type": "stream",
          "name": "stdout",
          "text": [
            "Writing k16.txt\n"
          ]
        }
      ]
    },
    {
      "cell_type": "markdown",
      "source": [
        "A complete graph with 20 nodes. Again, the maximum independent set has size 1 and it can be any node. Finding the maximum independent set for this graph will take more than five minutes with the pure python sequential version."
      ],
      "metadata": {
        "id": "QlCrtx1Wne9z"
      }
    },
    {
      "cell_type": "code",
      "source": [
        "%%writefile k20.txt\n",
        "20\n",
        "0 1 1 1 1 1 1 1 1 1 1 1 1 1 1 1 1 1 1 1\n",
        "1 0 1 1 1 1 1 1 1 1 1 1 1 1 1 1 1 1 1 1\n",
        "1 1 0 1 1 1 1 1 1 1 1 1 1 1 1 1 1 1 1 1\n",
        "1 1 1 0 1 1 1 1 1 1 1 1 1 1 1 1 1 1 1 1\n",
        "1 1 1 1 0 1 1 1 1 1 1 1 1 1 1 1 1 1 1 1\n",
        "1 1 1 1 1 0 1 1 1 1 1 1 1 1 1 1 1 1 1 1\n",
        "1 1 1 1 1 1 0 1 1 1 1 1 1 1 1 1 1 1 1 1\n",
        "1 1 1 1 1 1 1 0 1 1 1 1 1 1 1 1 1 1 1 1\n",
        "1 1 1 1 1 1 1 1 0 1 1 1 1 1 1 1 1 1 1 1\n",
        "1 1 1 1 1 1 1 1 1 0 1 1 1 1 1 1 1 1 1 1\n",
        "1 1 1 1 1 1 1 1 1 1 0 1 1 1 1 1 1 1 1 1\n",
        "1 1 1 1 1 1 1 1 1 1 1 0 1 1 1 1 1 1 1 1\n",
        "1 1 1 1 1 1 1 1 1 1 1 1 0 1 1 1 1 1 1 1\n",
        "1 1 1 1 1 1 1 1 1 1 1 1 1 0 1 1 1 1 1 1\n",
        "1 1 1 1 1 1 1 1 1 1 1 1 1 1 0 1 1 1 1 1\n",
        "1 1 1 1 1 1 1 1 1 1 1 1 1 1 1 0 1 1 1 1\n",
        "1 1 1 1 1 1 1 1 1 1 1 1 1 1 1 1 0 1 1 1\n",
        "1 1 1 1 1 1 1 1 1 1 1 1 1 1 1 1 1 0 1 1\n",
        "1 1 1 1 1 1 1 1 1 1 1 1 1 1 1 1 1 1 0 1\n",
        "1 1 1 1 1 1 1 1 1 1 1 1 1 1 1 1 1 1 1 0"
      ],
      "metadata": {
        "colab": {
          "base_uri": "https://localhost:8080/"
        },
        "id": "vpMlkc7QlN9k",
        "outputId": "23010a40-fd3e-496b-fc30-f9424bad076d"
      },
      "execution_count": null,
      "outputs": [
        {
          "output_type": "stream",
          "name": "stdout",
          "text": [
            "Writing k20.txt\n"
          ]
        }
      ]
    },
    {
      "cell_type": "markdown",
      "source": [
        "A complete graph with 24 nodes. Again, the maximum independent set has size 1 and it can be any node. Finding the maximum independent set for this graph will take more than five minutes with the pure python sequential version."
      ],
      "metadata": {
        "id": "hcuTMbNHiDwb"
      }
    },
    {
      "cell_type": "code",
      "source": [
        "%%writefile k24.txt\n",
        "24\n",
        "0 1 1 1 1 1 1 1 1 1 1 1 1 1 1 1 1 1 1 1 1 1 1 1\n",
        "1 0 1 1 1 1 1 1 1 1 1 1 1 1 1 1 1 1 1 1 1 1 1 1\n",
        "1 1 0 1 1 1 1 1 1 1 1 1 1 1 1 1 1 1 1 1 1 1 1 1\n",
        "1 1 1 0 1 1 1 1 1 1 1 1 1 1 1 1 1 1 1 1 1 1 1 1\n",
        "1 1 1 1 0 1 1 1 1 1 1 1 1 1 1 1 1 1 1 1 1 1 1 1\n",
        "1 1 1 1 1 0 1 1 1 1 1 1 1 1 1 1 1 1 1 1 1 1 1 1\n",
        "1 1 1 1 1 1 0 1 1 1 1 1 1 1 1 1 1 1 1 1 1 1 1 1\n",
        "1 1 1 1 1 1 1 0 1 1 1 1 1 1 1 1 1 1 1 1 1 1 1 1\n",
        "1 1 1 1 1 1 1 1 0 1 1 1 1 1 1 1 1 1 1 1 1 1 1 1\n",
        "1 1 1 1 1 1 1 1 1 0 1 1 1 1 1 1 1 1 1 1 1 1 1 1\n",
        "1 1 1 1 1 1 1 1 1 1 0 1 1 1 1 1 1 1 1 1 1 1 1 1\n",
        "1 1 1 1 1 1 1 1 1 1 1 0 1 1 1 1 1 1 1 1 1 1 1 1\n",
        "1 1 1 1 1 1 1 1 1 1 1 1 0 1 1 1 1 1 1 1 1 1 1 1\n",
        "1 1 1 1 1 1 1 1 1 1 1 1 1 0 1 1 1 1 1 1 1 1 1 1\n",
        "1 1 1 1 1 1 1 1 1 1 1 1 1 1 0 1 1 1 1 1 1 1 1 1\n",
        "1 1 1 1 1 1 1 1 1 1 1 1 1 1 1 0 1 1 1 1 1 1 1 1\n",
        "1 1 1 1 1 1 1 1 1 1 1 1 1 1 1 1 0 1 1 1 1 1 1 1\n",
        "1 1 1 1 1 1 1 1 1 1 1 1 1 1 1 1 1 0 1 1 1 1 1 1\n",
        "1 1 1 1 1 1 1 1 1 1 1 1 1 1 1 1 1 1 0 1 1 1 1 1\n",
        "1 1 1 1 1 1 1 1 1 1 1 1 1 1 1 1 1 1 1 0 1 1 1 1\n",
        "1 1 1 1 1 1 1 1 1 1 1 1 1 1 1 1 1 1 1 1 0 1 1 1\n",
        "1 1 1 1 1 1 1 1 1 1 1 1 1 1 1 1 1 1 1 1 1 0 1 1\n",
        "1 1 1 1 1 1 1 1 1 1 1 1 1 1 1 1 1 1 1 1 1 1 0 1\n",
        "1 1 1 1 1 1 1 1 1 1 1 1 1 1 1 1 1 1 1 1 1 1 1 0"
      ],
      "metadata": {
        "colab": {
          "base_uri": "https://localhost:8080/"
        },
        "id": "5kBIuZD479wX",
        "outputId": "c5422fcf-2176-486c-e600-186aaab3a3be"
      },
      "execution_count": null,
      "outputs": [
        {
          "output_type": "stream",
          "name": "stdout",
          "text": [
            "Writing k24.txt\n"
          ]
        }
      ]
    },
    {
      "cell_type": "markdown",
      "source": [
        "Do not modify this file. This is the sequential version that will be used for comparison purposes."
      ],
      "metadata": {
        "id": "4OGplY0biNlT"
      }
    },
    {
      "cell_type": "code",
      "source": [
        "%%writefile original_python.py\n",
        "import sys\n",
        "import time\n",
        "import numpy as np\n",
        "\n",
        "def read_adjacency_matrix(file_name):\n",
        "  file_object = open(file_name, \"r\")\n",
        "  # Input the number of rows and columns\n",
        "  size = int(file_object.readline())\n",
        "  rows = size\n",
        "  cols = size\n",
        "  # Initialize an empty matrix\n",
        "  matrix = []\n",
        "\n",
        "  # Input the matrix elements\n",
        "  for i in range(rows):\n",
        "    row = list(map(int, file_object.readline().split()))\n",
        "    matrix.append(row)\n",
        "  # Display the matrix\n",
        "  # print(\"The matrix contained in the file \",file_name,\" is: \")\n",
        "  # for row in matrix:\n",
        "  #  print(row)\n",
        "  return matrix,size\n",
        "\n",
        "# Convert an integer into a set of nodes\n",
        "def convert_from_int_to_set(integer,size):\n",
        "  set_of_nodes = []\n",
        "  mask = 1\n",
        "  for i in range(size):\n",
        "    if ((mask & integer) != 0):\n",
        "      set_of_nodes.append(i)\n",
        "    mask = mask * 2\n",
        "  return set_of_nodes\n",
        "\n",
        "# Find the maximum independent set\n",
        "def find_max_ind_set(adj_mat_numpy,size):\n",
        "  max_independent_set_size = 0\n",
        "  max_independent_set = []\n",
        "\n",
        "  size_of_power_set = 1\n",
        "  for i in range(size):\n",
        "    size_of_power_set *= 2\n",
        "  # print(\"The power set has \",size_of_power_set,\" elements\")\n",
        "  array_with_sizes = np.zeros(size_of_power_set)\n",
        "  for i in range(size_of_power_set):\n",
        "    this_set = convert_from_int_to_set(i,size)\n",
        "    is_independent = True\n",
        "  #  print(this_set)\n",
        "  # Your code goes here:\n",
        "  # For every pair of elements in this_set, check if there is an edge between them\n",
        "  # If there is an edge, this_set is not an independent set\n",
        "  # If there are none, this_set is an independent set.\n",
        "  # Compare its size with the largest independent set found so far\n",
        "  # and if it is larger, update the largest independent set and its size\n",
        "    for n1 in this_set:\n",
        "      for n2 in this_set:\n",
        "        if (adj_mat_numpy[n1][n2] == 1):\n",
        "          is_independent = False\n",
        "    if (is_independent):\n",
        "      array_with_sizes[i] = len(this_set)\n",
        "    else:\n",
        "      array_with_sizes[i] = 0\n",
        "\n",
        "\n",
        "  max_independent_set_size = np.max(array_with_sizes)\n",
        "  max_independent_set = np.where(array_with_sizes == max_independent_set_size)[0]\n",
        "  print(\"The max independent sets are encoded by: \",max_independent_set)\n",
        "  return max_independent_set_size\n",
        "\n",
        "\n",
        "\n",
        "if __name__ == \"__main__\":\n",
        "# Read the content of the file with the a passed in the command line\n",
        "# that contain the matrices to be multiplied\n",
        "  adj_matrix,size = read_adjacency_matrix(sys.argv[1])\n",
        "  adj_matrix_numpy = np.array(adj_matrix)\n",
        "  start_time = time.time()\n",
        "  max_independent_set_size = find_max_ind_set(adj_matrix_numpy,size)\n",
        "  end_time = time.time()\n",
        "  elapsed_time = end_time - start_time\n",
        "  print(\"Time required to carry out the computation in python: \",elapsed_time)\n",
        "  print(\"The size of the maximum independent set is: \",max_independent_set_size)"
      ],
      "metadata": {
        "colab": {
          "base_uri": "https://localhost:8080/"
        },
        "id": "xthMGI-dOcfu",
        "outputId": "294fa256-1148-43c4-af9e-ea7994f696c2"
      },
      "execution_count": null,
      "outputs": [
        {
          "output_type": "stream",
          "name": "stdout",
          "text": [
            "Writing original_python.py\n"
          ]
        }
      ]
    },
    {
      "cell_type": "markdown",
      "source": [],
      "metadata": {
        "id": "Swzl_gDJoaU-"
      }
    },
    {
      "cell_type": "markdown",
      "source": [
        "The cell below contains the file that you will modify.\n",
        "\n",
        "Insert, just before the line\n",
        "\n",
        " def convert_from_int_to_set(integer,size):\n",
        "\n",
        " the following directive:\n",
        "\n",
        " @numba.jit(nopython=True)\n",
        "\n",
        " This directs numba to compile this function into binary code.\n",
        "\n",
        " Insert, just before the line\n",
        "  \n",
        "def find_max_ind_set(adj_mat_numpy,size):\n",
        "\n",
        "the following directive:\n",
        "\n",
        " @numba.jit(nopython=True,parallel=True)\n",
        "\n",
        " This, again, directs numba to compile this function into binary code.\n",
        "\n",
        " Replace the line\n",
        "  for i in range(size_of_power_set):\n",
        "\n",
        "  with\n",
        "   for i in prange(size_of_power_set):\n",
        "\n",
        "   This instructs the numba compiler to parallelize this for statement.\n",
        "   Several threads will be started to divide the execution of this for statement\n",
        "   across diferent cores in the microprocessor.\n",
        "\n",
        "   If you are curious you can perform the performance comparision on an EOS machine or on your personal computer. With more cores, you should see better improvements in execution time."
      ],
      "metadata": {
        "id": "zr2FraJ5iel0"
      }
    },
    {
      "cell_type": "code",
      "source": [
        "%%writefile with_numba.py\n",
        "import sys\n",
        "import time\n",
        "import numpy as np\n",
        "import numba\n",
        "from numba import prange\n",
        "\n",
        "def read_adjacency_matrix(file_name):\n",
        "    file_object = open(file_name, \"r\")\n",
        "    # Input the number of rows and columns\n",
        "    size = int(file_object.readline())\n",
        "    rows = size\n",
        "    cols = size\n",
        "    # Initialize an empty matrix\n",
        "    matrix = []\n",
        "\n",
        "    # Input the matrix elements\n",
        "    for i in range(rows):\n",
        "        row = list(map(int, file_object.readline().split()))\n",
        "        matrix.append(row)\n",
        "    return matrix, size\n",
        "\n",
        "# Convert an integer into a set of nodes\n",
        "@numba.jit(nopython=True)\n",
        "def convert_from_int_to_set(integer, size):\n",
        "    set_of_nodes = []\n",
        "    mask = 1\n",
        "    for i in range(size):\n",
        "        if ((mask & integer) != 0):\n",
        "            set_of_nodes.append(i)\n",
        "        mask = mask * 2\n",
        "    return set_of_nodes\n",
        "\n",
        "# Find the maximum independent set\n",
        "@numba.jit(nopython=True, parallel=True)\n",
        "def find_max_ind_set(adj_mat_numpy, size):\n",
        "    max_independent_set_size = 0\n",
        "    max_independent_set = [0]\n",
        "\n",
        "    size_of_power_set = 1\n",
        "    for i in range(size):\n",
        "        size_of_power_set *= 2\n",
        "\n",
        "    array_with_sizes = np.zeros(size_of_power_set)\n",
        "    for i in prange(size_of_power_set):\n",
        "        this_set = convert_from_int_to_set(i, size)\n",
        "        is_independent = True\n",
        "\n",
        "        # For every pair of elements in this_set, check if there is an edge between them\n",
        "        for n1 in this_set:\n",
        "            for n2 in this_set:\n",
        "                if adj_mat_numpy[n1][n2] == 1:\n",
        "                    is_independent = False\n",
        "        if is_independent:\n",
        "            array_with_sizes[i] = len(this_set)\n",
        "        else:\n",
        "            array_with_sizes[i] = 0\n",
        "\n",
        "    max_independent_set_size = np.max(array_with_sizes)\n",
        "    max_independent_set = np.where(array_with_sizes == max_independent_set_size)[0]\n",
        "    print(\"The max independent sets are encoded by: \", max_independent_set)\n",
        "    return max_independent_set_size\n",
        "\n",
        "if __name__ == \"__main__\":\n",
        "    # Read the content of the file with the matrices to be multiplied\n",
        "    adj_matrix, size = read_adjacency_matrix(sys.argv[1])\n",
        "    adj_matrix_numpy = np.array(adj_matrix)\n",
        "\n",
        "    # A first call to give numba the time to compile\n",
        "    start_time = time.time()\n",
        "    max_independent_set_size = find_max_ind_set(adj_matrix_numpy, size)\n",
        "    end_time = time.time()\n",
        "    elapsed_time = end_time - start_time\n",
        "    print(\"Time required to carry out the computation with compilation: \", elapsed_time)\n",
        "\n",
        "    # A second call to measure raw execution time, without compilation time\n",
        "    start_time = time.time()\n",
        "    max_independent_set_size = find_max_ind_set(adj_matrix_numpy, size)\n",
        "    end_time = time.time()\n",
        "    elapsed_time = end_time - start_time\n",
        "    print(\"Time required to carry out the computation without compilation: \", elapsed_time)\n",
        "    print(\"The size of the maximum independent set is: \", max_independent_set_size)\n"
      ],
      "metadata": {
        "colab": {
          "base_uri": "https://localhost:8080/"
        },
        "id": "IDsKzPA4l2O6",
        "outputId": "4bc34293-3bca-44a7-e97e-cc18202e1450"
      },
      "execution_count": null,
      "outputs": [
        {
          "output_type": "stream",
          "name": "stdout",
          "text": [
            "Overwriting with_numba.py\n"
          ]
        }
      ]
    },
    {
      "cell_type": "markdown",
      "source": [
        "Now let's compare the execution times with the different test files."
      ],
      "metadata": {
        "id": "wme2ZJFDjj6d"
      }
    },
    {
      "cell_type": "code",
      "source": [
        "!python original_python.py k4.txt\n",
        "!python with_numba.py k4.txt\n",
        "!python original_python.py no_edges_4.txt\n",
        "!python with_numba.py no_edges_4.txt\n",
        "!python original_python.py k16.txt\n",
        "!python with_numba.py k16.txt\n",
        "!python original_python.py k20.txt\n",
        "!python with_numba.py k20.txt\n",
        "!python with_numba.py k24.txt"
      ],
      "metadata": {
        "colab": {
          "base_uri": "https://localhost:8080/"
        },
        "id": "BOQr-AFh1F47",
        "outputId": "d1215a92-ea35-43d5-d8c6-2f79e0da4019"
      },
      "execution_count": null,
      "outputs": [
        {
          "output_type": "stream",
          "name": "stdout",
          "text": [
            "The max independent sets are encoded by:  [1 2 4 8]\n",
            "Time required to carry out the computation in python:  0.00047087669372558594\n",
            "The size of the maximum independent set is:  1.0\n",
            "The max independent sets are encoded by:  [1 2 4 8]\n",
            "Time required to carry out the computation with compilation:  4.96064567565918\n",
            "The max independent sets are encoded by:  [1 2 4 8]\n",
            "Time required to carry out the computation without compilation:  0.00015687942504882812\n",
            "The size of the maximum independent set is:  1.0\n",
            "The max independent sets are encoded by:  [15]\n",
            "Time required to carry out the computation in python:  0.00023984909057617188\n",
            "The size of the maximum independent set is:  4.0\n",
            "The max independent sets are encoded by:  [15]\n",
            "Time required to carry out the computation with compilation:  3.402411460876465\n",
            "The max independent sets are encoded by:  [15]\n",
            "Time required to carry out the computation without compilation:  0.00020742416381835938\n",
            "The size of the maximum independent set is:  4.0\n",
            "The max independent sets are encoded by:  [    1     2     4     8    16    32    64   128   256   512  1024  2048\n",
            "  4096  8192 16384 32768]\n",
            "Time required to carry out the computation in python:  1.733536720275879\n",
            "The size of the maximum independent set is:  1.0\n",
            "The max independent sets are encoded by:  [    1     2     4     8    16    32    64   128   256   512  1024  2048\n",
            "  4096  8192 16384 32768]\n",
            "Time required to carry out the computation with compilation:  3.973924398422241\n",
            "The max independent sets are encoded by:  [    1     2     4     8    16    32    64   128   256   512  1024  2048\n",
            "  4096  8192 16384 32768]\n",
            "Time required to carry out the computation without compilation:  0.0400850772857666\n",
            "The size of the maximum independent set is:  1.0\n",
            "The max independent sets are encoded by:  [     1      2      4      8     16     32     64    128    256    512\n",
            "   1024   2048   4096   8192  16384  32768  65536 131072 262144 524288]\n",
            "Time required to carry out the computation in python:  43.38345694541931\n",
            "The size of the maximum independent set is:  1.0\n",
            "The max independent sets are encoded by:  [     1      2      4      8     16     32     64    128    256    512\n",
            "   1024   2048   4096   8192  16384  32768  65536 131072 262144 524288]\n",
            "Time required to carry out the computation with compilation:  3.7845518589019775\n",
            "The max independent sets are encoded by:  [     1      2      4      8     16     32     64    128    256    512\n",
            "   1024   2048   4096   8192  16384  32768  65536 131072 262144 524288]\n",
            "Time required to carry out the computation without compilation:  0.41443634033203125\n",
            "The size of the maximum independent set is:  1.0\n",
            "The max independent sets are encoded by:  [      1       2       4       8      16      32      64     128     256\n",
            "     512    1024    2048    4096    8192   16384   32768   65536  131072\n",
            "  262144  524288 1048576 2097152 4194304 8388608]\n",
            "Time required to carry out the computation with compilation:  12.371005058288574\n",
            "The max independent sets are encoded by:  [      1       2       4       8      16      32      64     128     256\n",
            "     512    1024    2048    4096    8192   16384   32768   65536  131072\n",
            "  262144  524288 1048576 2097152 4194304 8388608]\n",
            "Time required to carry out the computation without compilation:  9.358090877532959\n",
            "The size of the maximum independent set is:  1.0\n"
          ]
        }
      ]
    },
    {
      "cell_type": "markdown",
      "source": [
        "To summarize, enter the results of the execution times in the table below:\n",
        "\n",
        "| Test File      | Sequential Python Execution | With Numba including compilation | With numba excluding compilation |\n",
        "| ------------- | ------------- | ------------| ---------- |\n",
        "| K4            |  0.0003311634063720703          | 3.2873332500457764         |  0.0001838207244873047      |\n",
        "| No edges 4    |  0.00026988983154296875          | 3.277658224105835        |    0.00014829635620117188    |\n",
        "| K16           |  3.463789224624634| 3.6956934928894043        |  0.021125078201293945     |\n",
        "| K20           |  43.2859320640564        | 4.635937929153442        |  0.43755602836608887      |\n",
        "| K24           |  Too long...  | 12.622722148895264         |  8.057035446166992       |\n",
        "\n"
      ],
      "metadata": {
        "id": "vXHqPbgmrADl"
      }
    }
  ]
}