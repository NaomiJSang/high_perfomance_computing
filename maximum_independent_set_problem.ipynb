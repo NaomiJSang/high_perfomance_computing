{
  "nbformat": 4,
  "nbformat_minor": 0,
  "metadata": {
    "colab": {
      "provenance": [],
      "include_colab_link": true
    },
    "kernelspec": {
      "name": "python3",
      "display_name": "Python 3"
    },
    "language_info": {
      "name": "python"
    }
  },
  "cells": [
    {
      "cell_type": "markdown",
      "metadata": {
        "id": "view-in-github",
        "colab_type": "text"
      },
      "source": [
        "<a href=\"https://colab.research.google.com/github/NaomiJSang/high_perfomance_computing/blob/main/maximum_independent_set_problem.ipynb\" target=\"_parent\"><img src=\"https://colab.research.google.com/assets/colab-badge.svg\" alt=\"Open In Colab\"/></a>"
      ]
    },
    {
      "cell_type": "markdown",
      "source": [
        "**Student Name: Naomi Sang**\n"
      ],
      "metadata": {
        "id": "HjvVtvpgzmVV"
      }
    },
    {
      "cell_type": "markdown",
      "source": [
        "## Programming Assignment 1\n",
        "\n",
        "In this programming assignment, you will solve the maximum independent set problem.\n",
        "\n",
        "This is a problem from a branch of mathematics called graph theory, which has many applications.\n",
        "\n",
        "You will find a good introduction to graph theory in Wikipedia: https://en.wikipedia.org/wiki/Graph_theory\n",
        "\n",
        "In essence, graphs have two componenets:\n",
        "1. Nodes\n",
        "2. Edges that connect the nodes\n",
        "\n",
        "Nodes are usually labeled.\n",
        "\n",
        "There are different kinds of graphs. The problem we will consider solves problems on undirected graphs, graphs where the edges have no direction.\n",
        "\n",
        "There are different ways to represent graphs in the memory of a computer. In this assignment we will use the adjacency matrix. A graph with $n$ nodes will be represented using a $n \\times n$ matrix. We will assume that the nodes are labeled $0,1,...,n-1$.  If two nodes are connected by an edge, there will be a value of $1$ in the entries $adjacencyMatrix[i][j]$ and $adjacencyMatrix[j][i]$.\n",
        "Otherwise, if there is no edge between those two nodes, there will be a 0 in those entries. The entries in the main diagonal $adjacencyMatrix[i][i]$  with $i=0,1,...,n-1$ will contain 0s. It is assumed that there are no edges from a node to itself.\n",
        "\n",
        "Given an undirected graph, we are interested in finding the largest subset of nodes that do not contain any edges among themselves. This is called the maximum independent set. One approach to solve this problem is to consider each and every one of the possible subsets of the set of nodes and check if that node is indeed independent. The largest subset of nodes will be reported. The size of the maximum independenet set varies between $1$ (for complete graphs, graphs where every node is connected to every other node) and $n$ for graphs with $n$ nodes and no edges."
      ],
      "metadata": {
        "id": "rrkBlEDdCzu-"
      }
    },
    {
      "cell_type": "code",
      "execution_count": null,
      "metadata": {
        "id": "48Spr-FzCzDC"
      },
      "outputs": [],
      "source": []
    },
    {
      "cell_type": "code",
      "source": [
        "%%writefile hw1.py\n",
        "import sys\n",
        "import time\n",
        "import numpy as np\n",
        "\n",
        "def read_adjacency_matrix(file_name):\n",
        "    file_object = open(file_name, \"r\")\n",
        "    # Input the number of rows and columns\n",
        "    size = int(file_object.readline())\n",
        "    rows = size\n",
        "    cols = size\n",
        "    # Initialize an empty matrix\n",
        "    matrix = []\n",
        "\n",
        "    # Input the matrix elements\n",
        "    for i in range(rows):\n",
        "        row = list(map(int, file_object.readline().split()))\n",
        "        matrix.append(row)\n",
        "    # Display the matrix\n",
        "    print(\"The matrix contained in the file \", file_name, \" is: \")\n",
        "    for row in matrix:\n",
        "        print(row)\n",
        "    return matrix, size\n",
        "\n",
        "# Convert an integer into a set of nodes\n",
        "def convert_from_int_to_set(integer, size):\n",
        "    set_of_nodes = []\n",
        "    mask = 1\n",
        "    for i in range(size):\n",
        "        if ((mask & integer) != 0):\n",
        "            set_of_nodes.append(i)\n",
        "        mask = mask * 2\n",
        "    return set_of_nodes\n",
        "\n",
        "# Find the maximum independent set\n",
        "def find_max_ind_set(a_numpy, size):\n",
        "    max_independent_set_size = 0\n",
        "    max_independent_set = []\n",
        "    size_of_power_set = 1\n",
        "    for i in range(size):\n",
        "        size_of_power_set *= 2\n",
        "    # print(\"The power set has \", size_of_power_set, \" elements\")\n",
        "\n",
        "    for i in range(size_of_power_set):\n",
        "        this_set = convert_from_int_to_set(i, size)\n",
        "\n",
        "        # Check if this_set is independent\n",
        "        is_the_set_independent = True\n",
        "        for n in range(len(this_set)):\n",
        "            for m in range(n + 1, len(this_set)):\n",
        "                if a_numpy[this_set[n], this_set[m]] == 1:\n",
        "                    is_the_set_independent = False\n",
        "\n",
        "        # If independent, check if its size is larger than the current max\n",
        "        if is_the_set_independent and len(this_set) > max_independent_set_size:\n",
        "            max_independent_set_size = len(this_set)\n",
        "            max_independent_set = this_set\n",
        "\n",
        "    print(\"A max independent set is: \", max_independent_set)\n",
        "    return max_independent_set_size\n",
        "\n",
        "if __name__ == \"__main__\":\n",
        "    # Read the content of the file with the a passed in the command line\n",
        "    adj_matrix, size = read_adjacency_matrix(sys.argv[1])\n",
        "    adj_matrix_numpy = np.array(adj_matrix)\n",
        "    start_time = time.time()\n",
        "    max_independent_set_size = find_max_ind_set(adj_matrix_numpy, size)\n",
        "    end_time = time.time()\n",
        "    elapsed_time = end_time - start_time\n",
        "    print(\"Time required to carry out the computation: \", elapsed_time)\n",
        "    print(\"The size of the maximum independent set is: \", max_independent_set_size)\n"
      ],
      "metadata": {
        "colab": {
          "base_uri": "https://localhost:8080/"
        },
        "id": "PYGx2qPj6XO-",
        "outputId": "a02f0390-e849-4562-d6f7-00e4588ea6f1"
      },
      "execution_count": null,
      "outputs": [
        {
          "output_type": "stream",
          "name": "stdout",
          "text": [
            "Writing hw1.py\n"
          ]
        }
      ]
    },
    {
      "cell_type": "markdown",
      "source": [
        "Let's create a couple of test matrices of size $4 \\times 4$.\n",
        "\n",
        "First, a complete graph, a graph where every node is connected to every other node. The maximum independent set is 1. It can be any individual node in the graph."
      ],
      "metadata": {
        "id": "MCvDmozxJBKO"
      }
    },
    {
      "cell_type": "code",
      "source": [
        "%%writefile k4.txt\n",
        "4\n",
        "0 1 1 1\n",
        "1 0 1 1\n",
        "1 1 0 1\n",
        "1 1 1 0"
      ],
      "metadata": {
        "colab": {
          "base_uri": "https://localhost:8080/"
        },
        "id": "5YVNyAxPJM00",
        "outputId": "b2899fde-fb96-4afb-a4e4-bfa93cf9988b"
      },
      "execution_count": null,
      "outputs": [
        {
          "output_type": "stream",
          "name": "stdout",
          "text": [
            "Writing k4.txt\n"
          ]
        }
      ]
    },
    {
      "cell_type": "code",
      "source": [
        "!python hw1.py k4.txt"
      ],
      "metadata": {
        "colab": {
          "base_uri": "https://localhost:8080/"
        },
        "id": "Yxu-EusbJjb-",
        "outputId": "9499e750-4d43-4ca3-f475-64a63acd64bc"
      },
      "execution_count": null,
      "outputs": [
        {
          "output_type": "stream",
          "name": "stdout",
          "text": [
            "The matrix contained in the file  k4.txt  is: \n",
            "[0, 1, 1, 1]\n",
            "[1, 0, 1, 1]\n",
            "[1, 1, 0, 1]\n",
            "[1, 1, 1, 0]\n",
            "A max independent set is:  [0]\n",
            "Time required to carry out the computation:  8.869171142578125e-05\n",
            "The size of the maximum independent set is:  1\n"
          ]
        }
      ]
    },
    {
      "cell_type": "markdown",
      "source": [
        "Next, let's create a graph of size $4 \\times 4$ with no edges. Here the maximum independent set will be the set of all four nodes: $\\{ 0,1,2,3 \\}$"
      ],
      "metadata": {
        "id": "KY6SZNYYMqTN"
      }
    },
    {
      "cell_type": "code",
      "source": [
        "%%writefile no_edges_4.txt\n",
        "4\n",
        "0 0 0 0\n",
        "0 0 0 0\n",
        "0 0 0 0\n",
        "0 0 0 0"
      ],
      "metadata": {
        "colab": {
          "base_uri": "https://localhost:8080/"
        },
        "id": "mXeilBC9M5N1",
        "outputId": "0aef6b15-c8e0-4133-f1f0-d4d3e4cbacb8"
      },
      "execution_count": null,
      "outputs": [
        {
          "output_type": "stream",
          "name": "stdout",
          "text": [
            "Writing no_edges_4.txt\n"
          ]
        }
      ]
    },
    {
      "cell_type": "code",
      "source": [
        "!python hw1.py no_edges_4.txt"
      ],
      "metadata": {
        "colab": {
          "base_uri": "https://localhost:8080/"
        },
        "id": "1f3m7iGSNB6N",
        "outputId": "859a38d3-dd06-4bc9-e286-381ab53e9d7a"
      },
      "execution_count": null,
      "outputs": [
        {
          "output_type": "stream",
          "name": "stdout",
          "text": [
            "The matrix contained in the file  no_edges_4.txt  is: \n",
            "[0, 0, 0, 0]\n",
            "[0, 0, 0, 0]\n",
            "[0, 0, 0, 0]\n",
            "[0, 0, 0, 0]\n",
            "A max independent set is:  [0, 1, 2, 3]\n",
            "Time required to carry out the computation:  0.00026226043701171875\n",
            "The size of the maximum independent set is:  4\n"
          ]
        }
      ]
    },
    {
      "cell_type": "markdown",
      "source": [
        "And a larger file... of size $16 \\times 16$:"
      ],
      "metadata": {
        "id": "MlpSsuiV33_X"
      }
    },
    {
      "cell_type": "code",
      "source": [
        "%%writefile k16.txt\n",
        "16\n",
        "0 1 1 1 1 1 1 1 1 1 1 1 1 1 1 1\n",
        "1 0 1 1 1 1 1 1 1 1 1 1 1 1 1 1\n",
        "1 1 0 1 1 1 1 1 1 1 1 1 1 1 1 1\n",
        "1 1 1 0 1 1 1 1 1 1 1 1 1 1 1 1\n",
        "1 1 1 1 0 1 1 1 1 1 1 1 1 1 1 1\n",
        "1 1 1 1 1 0 1 1 1 1 1 1 1 1 1 1\n",
        "1 1 1 1 1 1 0 1 1 1 1 1 1 1 1 1\n",
        "1 1 1 1 1 1 1 0 1 1 1 1 1 1 1 1\n",
        "1 1 1 1 1 1 1 1 0 1 1 1 1 1 1 1\n",
        "1 1 1 1 1 1 1 1 1 0 1 1 1 1 1 1\n",
        "1 1 1 1 1 1 1 1 1 1 0 1 1 1 1 1\n",
        "1 1 1 1 1 1 1 1 1 1 1 0 1 1 1 1\n",
        "1 1 1 1 1 1 1 1 1 1 1 1 0 1 1 1\n",
        "1 1 1 1 1 1 1 1 1 1 1 1 1 0 1 1\n",
        "1 1 1 1 1 1 1 1 1 1 1 1 1 1 0 1\n",
        "1 1 1 1 1 1 1 1 1 1 1 1 1 1 1 0"
      ],
      "metadata": {
        "colab": {
          "base_uri": "https://localhost:8080/"
        },
        "id": "skRQymXA38A9",
        "outputId": "a1dd550f-adf5-48d5-f570-a6067d9641cb"
      },
      "execution_count": null,
      "outputs": [
        {
          "output_type": "stream",
          "name": "stdout",
          "text": [
            "Writing k16.txt\n"
          ]
        }
      ]
    },
    {
      "cell_type": "code",
      "source": [
        "!python hw1.py k16.txt"
      ],
      "metadata": {
        "colab": {
          "base_uri": "https://localhost:8080/"
        },
        "id": "9moRGtMk4Uk9",
        "outputId": "af7dfa03-880b-4b78-cd51-72b17ee9022a"
      },
      "execution_count": null,
      "outputs": [
        {
          "output_type": "stream",
          "name": "stdout",
          "text": [
            "The matrix contained in the file  k16.txt  is: \n",
            "[0, 1, 1, 1, 1, 1, 1, 1, 1, 1, 1, 1, 1, 1, 1, 1]\n",
            "[1, 0, 1, 1, 1, 1, 1, 1, 1, 1, 1, 1, 1, 1, 1, 1]\n",
            "[1, 1, 0, 1, 1, 1, 1, 1, 1, 1, 1, 1, 1, 1, 1, 1]\n",
            "[1, 1, 1, 0, 1, 1, 1, 1, 1, 1, 1, 1, 1, 1, 1, 1]\n",
            "[1, 1, 1, 1, 0, 1, 1, 1, 1, 1, 1, 1, 1, 1, 1, 1]\n",
            "[1, 1, 1, 1, 1, 0, 1, 1, 1, 1, 1, 1, 1, 1, 1, 1]\n",
            "[1, 1, 1, 1, 1, 1, 0, 1, 1, 1, 1, 1, 1, 1, 1, 1]\n",
            "[1, 1, 1, 1, 1, 1, 1, 0, 1, 1, 1, 1, 1, 1, 1, 1]\n",
            "[1, 1, 1, 1, 1, 1, 1, 1, 0, 1, 1, 1, 1, 1, 1, 1]\n",
            "[1, 1, 1, 1, 1, 1, 1, 1, 1, 0, 1, 1, 1, 1, 1, 1]\n",
            "[1, 1, 1, 1, 1, 1, 1, 1, 1, 1, 0, 1, 1, 1, 1, 1]\n",
            "[1, 1, 1, 1, 1, 1, 1, 1, 1, 1, 1, 0, 1, 1, 1, 1]\n",
            "[1, 1, 1, 1, 1, 1, 1, 1, 1, 1, 1, 1, 0, 1, 1, 1]\n",
            "[1, 1, 1, 1, 1, 1, 1, 1, 1, 1, 1, 1, 1, 0, 1, 1]\n",
            "[1, 1, 1, 1, 1, 1, 1, 1, 1, 1, 1, 1, 1, 1, 0, 1]\n",
            "[1, 1, 1, 1, 1, 1, 1, 1, 1, 1, 1, 1, 1, 1, 1, 0]\n",
            "A max independent set is:  [0]\n",
            "Time required to carry out the computation:  3.052163600921631\n",
            "The size of the maximum independent set is:  1\n"
          ]
        }
      ]
    },
    {
      "cell_type": "markdown",
      "source": [
        "Now, let's trace the execution of the code. The tracing information will be very useful for the next assignment, where you will be parallelizing this code using numba.\n",
        "\n",
        "First we install the profiler library."
      ],
      "metadata": {
        "id": "ZVfG-RKLNRXt"
      }
    },
    {
      "cell_type": "code",
      "source": [
        "!pip install line_profiler"
      ],
      "metadata": {
        "colab": {
          "base_uri": "https://localhost:8080/"
        },
        "id": "G0doSYBwNuEG",
        "outputId": "13375ede-8a02-470f-9cc4-596752fbb27c"
      },
      "execution_count": null,
      "outputs": [
        {
          "output_type": "stream",
          "name": "stdout",
          "text": [
            "Collecting line_profiler\n",
            "  Downloading line_profiler-4.1.3-cp310-cp310-manylinux_2_17_x86_64.manylinux2014_x86_64.whl.metadata (34 kB)\n",
            "Downloading line_profiler-4.1.3-cp310-cp310-manylinux_2_17_x86_64.manylinux2014_x86_64.whl (717 kB)\n",
            "\u001b[2K   \u001b[90m━━━━━━━━━━━━━━━━━━━━━━━━━━━━━━━━━━━━━━━━\u001b[0m \u001b[32m717.6/717.6 kB\u001b[0m \u001b[31m9.4 MB/s\u001b[0m eta \u001b[36m0:00:00\u001b[0m\n",
            "\u001b[?25hInstalling collected packages: line_profiler\n",
            "Successfully installed line_profiler-4.1.3\n"
          ]
        }
      ]
    },
    {
      "cell_type": "markdown",
      "source": [
        "Next we update the code to profile."
      ],
      "metadata": {
        "id": "coRFHE55Ny8l"
      }
    },
    {
      "cell_type": "code",
      "source": [
        "%%writefile hw1.py\n",
        "import sys\n",
        "import time\n",
        "import numpy as np\n",
        "\n",
        "def read_adjacency_matrix(file_name):\n",
        "    file_object = open(file_name, \"r\")\n",
        "    # Input the number of rows and columns\n",
        "    size = int(file_object.readline())\n",
        "    rows = size\n",
        "    cols = size\n",
        "    # Initialize an empty matrix\n",
        "    matrix = []\n",
        "\n",
        "    # Input the matrix elements\n",
        "    for i in range(rows):\n",
        "        row = list(map(int, file_object.readline().split()))\n",
        "        matrix.append(row)\n",
        "    # Display the matrix\n",
        "    print(\"The matrix contained in the file \", file_name, \" is: \")\n",
        "    for row in matrix:\n",
        "        print(row)\n",
        "    return matrix, size\n",
        "\n",
        "# Convert an integer into a set of nodes\n",
        "def convert_from_int_to_set(integer, size):\n",
        "    set_of_nodes = []\n",
        "    mask = 1\n",
        "    for i in range(size):\n",
        "        if ((mask & integer) != 0):\n",
        "            set_of_nodes.append(i)\n",
        "        mask = mask * 2\n",
        "    return set_of_nodes\n",
        "\n",
        "# Find the maximum independent set\n",
        "@profile\n",
        "def find_max_ind_set(a_numpy, size):\n",
        "    max_independent_set_size = 0\n",
        "    max_independent_set = []\n",
        "    size_of_power_set = 1\n",
        "    for i in range(size):\n",
        "        size_of_power_set *= 2\n",
        "    # print(\"The power set has \", size_of_power_set, \" elements\")\n",
        "\n",
        "    for i in range(size_of_power_set):\n",
        "        this_set = convert_from_int_to_set(i, size)\n",
        "\n",
        "        # Check if this_set is independent\n",
        "        is_the_set_independent = True\n",
        "        for n in range(len(this_set)):\n",
        "            for m in range(n + 1, len(this_set)):\n",
        "                if a_numpy[this_set[n], this_set[m]] == 1:\n",
        "                    is_the_set_independent = False\n",
        "\n",
        "        # If independent, check if its size is larger than the current max\n",
        "        if is_the_set_independent and len(this_set) > max_independent_set_size:\n",
        "            max_independent_set_size = len(this_set)\n",
        "            max_independent_set = this_set\n",
        "\n",
        "    print(\"A max independent set is: \", max_independent_set)\n",
        "    return max_independent_set_size\n",
        "\n",
        "if __name__ == \"__main__\":\n",
        "    # Read the content of the file with the a passed in the command line\n",
        "    adj_matrix, size = read_adjacency_matrix(sys.argv[1])\n",
        "    adj_matrix_numpy = np.array(adj_matrix)\n",
        "    start_time = time.time()\n",
        "    max_independent_set_size = find_max_ind_set(adj_matrix_numpy, size)\n",
        "    end_time = time.time()\n",
        "    elapsed_time = end_time - start_time\n",
        "    print(\"Time required to carry out the computation: \", elapsed_time)\n",
        "    print(\"The size of the maximum independent set is: \", max_independent_set_size)\n"
      ],
      "metadata": {
        "colab": {
          "base_uri": "https://localhost:8080/"
        },
        "id": "LlXgZS596aeV",
        "outputId": "7104cdec-720d-443f-b62d-6074d69e0dbe"
      },
      "execution_count": null,
      "outputs": [
        {
          "output_type": "stream",
          "name": "stdout",
          "text": [
            "Overwriting hw1.py\n"
          ]
        }
      ]
    },
    {
      "cell_type": "markdown",
      "source": [
        "Now, let's profile the code:\n"
      ],
      "metadata": {
        "id": "IGQ-wE3lN9UV"
      }
    },
    {
      "cell_type": "code",
      "source": [
        "!kernprof -l hw1.py k4.txt"
      ],
      "metadata": {
        "colab": {
          "base_uri": "https://localhost:8080/"
        },
        "id": "oLBNNtb-OEiV",
        "outputId": "144dd94a-88eb-4073-9104-0ec8e52a6207"
      },
      "execution_count": null,
      "outputs": [
        {
          "output_type": "stream",
          "name": "stdout",
          "text": [
            "The matrix contained in the file  k4.txt  is: \n",
            "[0, 1, 1, 1]\n",
            "[1, 0, 1, 1]\n",
            "[1, 1, 0, 1]\n",
            "[1, 1, 1, 0]\n",
            "A max independent set is:  [0]\n",
            "Time required to carry out the computation:  0.0004398822784423828\n",
            "The size of the maximum independent set is:  1\n",
            "Wrote profile results to hw1.py.lprof\n",
            "Inspect results with:\n",
            "python3 -m line_profiler -rmt \"hw1.py.lprof\"\n"
          ]
        }
      ]
    },
    {
      "cell_type": "code",
      "source": [
        "!python3 -m line_profiler -rmt  \"hw1.py.lprof\""
      ],
      "metadata": {
        "colab": {
          "base_uri": "https://localhost:8080/"
        },
        "id": "-Zbay5HVOUFl",
        "outputId": "19a78a95-069d-4a50-d3e6-dcbc3b8d6713"
      },
      "execution_count": null,
      "outputs": [
        {
          "output_type": "stream",
          "name": "stdout",
          "text": [
            "Timer unit: 1e-06 s\n",
            "\n",
            "Total time: 0.000276653 s\n",
            "File: hw1.py\n",
            "Function: find_max_ind_set at line 35\n",
            "\n",
            "Line #      Hits         Time  Per Hit   % Time  Line Contents\n",
            "==============================================================\n",
            "    \u001b[1;36m35\u001b[0m                                           \u001b[92;49m@profile\u001b[0m                                           \n",
            "    \u001b[1;36m36\u001b[0m                                           \u001b[96;49mdef\u001b[0m\u001b[97;49m \u001b[0m\u001b[92;49mfind_max_ind_set\u001b[0m\u001b[97;49m(\u001b[0m\u001b[97;49ma_numpy\u001b[0m\u001b[97;49m,\u001b[0m\u001b[97;49m \u001b[0m\u001b[97;49msize\u001b[0m\u001b[97;49m)\u001b[0m\u001b[97;49m:\u001b[0m               \n",
            "    \u001b[1;36m37\u001b[0m         \u001b[1;36m1\u001b[0m          \u001b[1;36m1.0\u001b[0m      \u001b[1;36m1.0\u001b[0m      \u001b[1;36m0.4\u001b[0m  \u001b[97;49m    \u001b[0m\u001b[97;49mmax_independent_set_size\u001b[0m\u001b[97;49m \u001b[0m\u001b[91;49m=\u001b[0m\u001b[97;49m \u001b[0m\u001b[37;49m0\u001b[0m                   \n",
            "    \u001b[1;36m38\u001b[0m         \u001b[1;36m1\u001b[0m          \u001b[1;36m0.4\u001b[0m      \u001b[1;36m0.4\u001b[0m      \u001b[1;36m0.1\u001b[0m  \u001b[97;49m    \u001b[0m\u001b[97;49mmax_independent_set\u001b[0m\u001b[97;49m \u001b[0m\u001b[91;49m=\u001b[0m\u001b[97;49m \u001b[0m\u001b[97;49m[\u001b[0m\u001b[97;49m]\u001b[0m                       \n",
            "    \u001b[1;36m39\u001b[0m         \u001b[1;36m1\u001b[0m          \u001b[1;36m0.3\u001b[0m      \u001b[1;36m0.3\u001b[0m      \u001b[1;36m0.1\u001b[0m  \u001b[97;49m    \u001b[0m\u001b[97;49msize_of_power_set\u001b[0m\u001b[97;49m \u001b[0m\u001b[91;49m=\u001b[0m\u001b[97;49m \u001b[0m\u001b[37;49m1\u001b[0m                          \n",
            "    \u001b[1;36m40\u001b[0m         \u001b[1;36m5\u001b[0m          \u001b[1;36m3.7\u001b[0m      \u001b[1;36m0.7\u001b[0m      \u001b[1;36m1.3\u001b[0m  \u001b[97;49m    \u001b[0m\u001b[96;49mfor\u001b[0m\u001b[97;49m \u001b[0m\u001b[97;49mi\u001b[0m\u001b[97;49m \u001b[0m\u001b[91;49min\u001b[0m\u001b[97;49m \u001b[0m\u001b[97;49mrange\u001b[0m\u001b[97;49m(\u001b[0m\u001b[97;49msize\u001b[0m\u001b[97;49m)\u001b[0m\u001b[97;49m:\u001b[0m                          \n",
            "    \u001b[1;36m41\u001b[0m         \u001b[1;36m4\u001b[0m          \u001b[1;36m2.4\u001b[0m      \u001b[1;36m0.6\u001b[0m      \u001b[1;36m0.9\u001b[0m  \u001b[97;49m        \u001b[0m\u001b[97;49msize_of_power_set\u001b[0m\u001b[97;49m \u001b[0m\u001b[91;49m*\u001b[0m\u001b[91;49m=\u001b[0m\u001b[97;49m \u001b[0m\u001b[37;49m2\u001b[0m                     \n",
            "    \u001b[1;36m42\u001b[0m                                           \u001b[97;49m    \u001b[0m\u001b[37;49m# print(\"The power set has \", size_of_power_se…\u001b[0m\n",
            "    \u001b[1;36m43\u001b[0m                                                                                              \n",
            "    \u001b[1;36m44\u001b[0m        \u001b[1;36m17\u001b[0m          \u001b[1;36m7.7\u001b[0m      \u001b[1;36m0.5\u001b[0m      \u001b[1;36m2.8\u001b[0m  \u001b[97;49m    \u001b[0m\u001b[96;49mfor\u001b[0m\u001b[97;49m \u001b[0m\u001b[97;49mi\u001b[0m\u001b[97;49m \u001b[0m\u001b[91;49min\u001b[0m\u001b[97;49m \u001b[0m\u001b[97;49mrange\u001b[0m\u001b[97;49m(\u001b[0m\u001b[97;49msize_of_power_set\u001b[0m\u001b[97;49m)\u001b[0m\u001b[97;49m:\u001b[0m             \n",
            "    \u001b[1;36m45\u001b[0m        \u001b[1;36m16\u001b[0m         \u001b[1;36m99.3\u001b[0m      \u001b[1;36m6.2\u001b[0m     \u001b[1;36m35.9\u001b[0m  \u001b[97;49m        \u001b[0m\u001b[97;49mthis_set\u001b[0m\u001b[97;49m \u001b[0m\u001b[91;49m=\u001b[0m\u001b[97;49m \u001b[0m\u001b[97;49mconvert_from_int_to_set\u001b[0m\u001b[97;49m(\u001b[0m\u001b[97;49mi\u001b[0m\u001b[97;49m,\u001b[0m\u001b[97;49m \u001b[0m\u001b[97;49msize\u001b[0m\u001b[97;49m)\u001b[0m\n",
            "    \u001b[1;36m46\u001b[0m                                                                                              \n",
            "    \u001b[1;36m47\u001b[0m                                           \u001b[97;49m        \u001b[0m\u001b[37;49m# Check if this_set is independent\u001b[0m         \n",
            "    \u001b[1;36m48\u001b[0m        \u001b[1;36m16\u001b[0m          \u001b[1;36m5.4\u001b[0m      \u001b[1;36m0.3\u001b[0m      \u001b[1;36m1.9\u001b[0m  \u001b[97;49m        \u001b[0m\u001b[97;49mis_the_set_independent\u001b[0m\u001b[97;49m \u001b[0m\u001b[91;49m=\u001b[0m\u001b[97;49m \u001b[0m\u001b[96;49mTrue\u001b[0m              \n",
            "    \u001b[1;36m49\u001b[0m        \u001b[1;36m48\u001b[0m         \u001b[1;36m26.4\u001b[0m      \u001b[1;36m0.5\u001b[0m      \u001b[1;36m9.5\u001b[0m  \u001b[97;49m        \u001b[0m\u001b[96;49mfor\u001b[0m\u001b[97;49m \u001b[0m\u001b[97;49mn\u001b[0m\u001b[97;49m \u001b[0m\u001b[91;49min\u001b[0m\u001b[97;49m \u001b[0m\u001b[97;49mrange\u001b[0m\u001b[97;49m(\u001b[0m\u001b[97;49mlen\u001b[0m\u001b[97;49m(\u001b[0m\u001b[97;49mthis_set\u001b[0m\u001b[97;49m)\u001b[0m\u001b[97;49m)\u001b[0m\u001b[97;49m:\u001b[0m             \n",
            "    \u001b[1;36m50\u001b[0m        \u001b[1;36m56\u001b[0m         \u001b[1;36m43.9\u001b[0m      \u001b[1;36m0.8\u001b[0m     \u001b[1;36m15.9\u001b[0m  \u001b[97;49m            \u001b[0m\u001b[96;49mfor\u001b[0m\u001b[97;49m \u001b[0m\u001b[97;49mm\u001b[0m\u001b[97;49m \u001b[0m\u001b[91;49min\u001b[0m\u001b[97;49m \u001b[0m\u001b[97;49mrange\u001b[0m\u001b[97;49m(\u001b[0m\u001b[97;49mn\u001b[0m\u001b[97;49m \u001b[0m\u001b[91;49m+\u001b[0m\u001b[97;49m \u001b[0m\u001b[37;49m1\u001b[0m\u001b[97;49m,\u001b[0m\u001b[97;49m \u001b[0m\u001b[97;49mlen\u001b[0m\u001b[97;49m(\u001b[0m\u001b[97;49mthis_set\u001b[0m\u001b[97;49m)\u001b[0m\u001b[97;49m)\u001b[0m\u001b[97;49m:\u001b[0m  \n",
            "    \u001b[1;36m51\u001b[0m        \u001b[1;36m24\u001b[0m         \u001b[1;36m44.8\u001b[0m      \u001b[1;36m1.9\u001b[0m     \u001b[1;36m16.2\u001b[0m  \u001b[97;49m                \u001b[0m\u001b[96;49mif\u001b[0m\u001b[97;49m \u001b[0m\u001b[97;49ma_numpy\u001b[0m\u001b[97;49m[\u001b[0m\u001b[97;49mthis_set\u001b[0m\u001b[97;49m[\u001b[0m\u001b[97;49mn\u001b[0m\u001b[97;49m]\u001b[0m\u001b[97;49m,\u001b[0m\u001b[97;49m \u001b[0m\u001b[97;49mthis_set\u001b[0m\u001b[97;49m[\u001b[0m\u001b[97;49mm\u001b[0m\u001b[97;49m…\u001b[0m\n",
            "    \u001b[1;36m52\u001b[0m        \u001b[1;36m24\u001b[0m          \u001b[1;36m8.8\u001b[0m      \u001b[1;36m0.4\u001b[0m      \u001b[1;36m3.2\u001b[0m  \u001b[97;49m                    \u001b[0m\u001b[97;49mis_the_set_independent\u001b[0m\u001b[97;49m \u001b[0m\u001b[91;49m=\u001b[0m\u001b[97;49m \u001b[0m\u001b[96;49mFalse\u001b[0m \n",
            "    \u001b[1;36m53\u001b[0m                                                                                              \n",
            "    \u001b[1;36m54\u001b[0m                                           \u001b[97;49m        \u001b[0m\u001b[37;49m# If independent, check if its size is lar…\u001b[0m\n",
            "    \u001b[1;36m55\u001b[0m        \u001b[1;36m16\u001b[0m          \u001b[1;36m8.9\u001b[0m      \u001b[1;36m0.6\u001b[0m      \u001b[1;36m3.2\u001b[0m  \u001b[97;49m        \u001b[0m\u001b[96;49mif\u001b[0m\u001b[97;49m \u001b[0m\u001b[97;49mis_the_set_independent\u001b[0m\u001b[97;49m \u001b[0m\u001b[91;49mand\u001b[0m\u001b[97;49m \u001b[0m\u001b[97;49mlen\u001b[0m\u001b[97;49m(\u001b[0m\u001b[97;49mthis_set\u001b[0m\u001b[97;49m…\u001b[0m\n",
            "    \u001b[1;36m56\u001b[0m         \u001b[1;36m1\u001b[0m          \u001b[1;36m0.4\u001b[0m      \u001b[1;36m0.4\u001b[0m      \u001b[1;36m0.2\u001b[0m  \u001b[97;49m            \u001b[0m\u001b[97;49mmax_independent_set_size\u001b[0m\u001b[97;49m \u001b[0m\u001b[91;49m=\u001b[0m\u001b[97;49m \u001b[0m\u001b[97;49mlen\u001b[0m\u001b[97;49m(\u001b[0m\u001b[97;49mthis_se…\u001b[0m\n",
            "    \u001b[1;36m57\u001b[0m         \u001b[1;36m1\u001b[0m          \u001b[1;36m0.6\u001b[0m      \u001b[1;36m0.6\u001b[0m      \u001b[1;36m0.2\u001b[0m  \u001b[97;49m            \u001b[0m\u001b[97;49mmax_independent_set\u001b[0m\u001b[97;49m \u001b[0m\u001b[91;49m=\u001b[0m\u001b[97;49m \u001b[0m\u001b[97;49mthis_set\u001b[0m         \n",
            "    \u001b[1;36m58\u001b[0m                                                                                              \n",
            "    \u001b[1;36m59\u001b[0m         \u001b[1;36m1\u001b[0m         \u001b[1;36m22.3\u001b[0m     \u001b[1;36m22.3\u001b[0m      \u001b[1;36m8.1\u001b[0m  \u001b[97;49m    \u001b[0m\u001b[97;49mprint\u001b[0m\u001b[97;49m(\u001b[0m\u001b[93;49m\"\u001b[0m\u001b[93;49mA max independent set is: \u001b[0m\u001b[93;49m\"\u001b[0m\u001b[97;49m,\u001b[0m\u001b[97;49m \u001b[0m\u001b[97;49mmax_indepe…\u001b[0m\n",
            "    \u001b[1;36m60\u001b[0m         \u001b[1;36m1\u001b[0m          \u001b[1;36m0.4\u001b[0m      \u001b[1;36m0.4\u001b[0m      \u001b[1;36m0.1\u001b[0m  \u001b[97;49m    \u001b[0m\u001b[96;49mreturn\u001b[0m\u001b[97;49m \u001b[0m\u001b[97;49mmax_independent_set_size\u001b[0m                \n",
            "\n",
            "\n",
            "  0.00 seconds - hw1.py:35 - find_max_ind_set\n"
          ]
        }
      ]
    }
  ]
}